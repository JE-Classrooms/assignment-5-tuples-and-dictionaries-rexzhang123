{
 "cells": [
  {
   "cell_type": "markdown",
   "metadata": {},
   "source": [
    "# Assignment 5"
   ]
  },
  {
   "cell_type": "markdown",
   "metadata": {},
   "source": [
    "**Exercise 1:** write a Python program to create a new dictionary by extracting the mentioned keys from the below dictionary\n",
    "\n",
    "```python\n",
    "sample_dict = {\n",
    "    \"name\": \"Kelly\",\n",
    "    \"age\": 25,\n",
    "    \"salary\": 8000,\n",
    "    \"city\": \"New york\"}\n",
    "\n",
    "# Keys to extract\n",
    "keys = [\"name\", \"salary\"]\n",
    "```\n",
    "\n",
    "**Expected output:** ```{'name': 'Kelly', 'salary': 8000}```"
   ]
  },
  {
   "cell_type": "code",
   "execution_count": 5,
   "metadata": {},
   "outputs": [
    {
     "name": "stdout",
     "output_type": "stream",
     "text": [
      "{'name': 'Kelly', 'salary': 8000}\n"
     ]
    }
   ],
   "source": [
    "sample_dict = {\n",
    "    \"name\": \"Kelly\",\n",
    "    \"age\": 25,\n",
    "    \"salary\": 8000,\n",
    "    \"city\": \"New york\"}\n",
    "keys = [\"name\", \"salary\"]\n",
    "new_dict = {}\n",
    "for key in sample_dict:\n",
    "    if(key in keys):\n",
    "        new_dict[key] = sample_dict[key]\n",
    "\n",
    "print(new_dict)"
   ]
  },
  {
   "cell_type": "markdown",
   "metadata": {},
   "source": [
    "**Exercise 2:** consider the following dictionary:\n",
    "\n",
    "```d = {'1':1, '2':2, '3':3, 4:4, 5:5, 6:6, 'next key':7}```\n",
    "\n",
    "(a) using a loop change the type of the values associated with string keys to strings.\n",
    "\n",
    "**Expected output:** ```{'1': '1', '2': '2', '3': '3', 4: 4, 5: 5, 6: 6, 'next key': '7'}```\n",
    "\n",
    "(b) using a loop, change all the keys to match their respective values. \n",
    "\n",
    "**Expected output:** ```{1: 1, 2: 2, 3: 3, 4: 4, 5: 5, 6: 6, 7: 7}```"
   ]
  },
  {
   "cell_type": "code",
   "execution_count": 26,
   "metadata": {},
   "outputs": [
    {
     "name": "stdout",
     "output_type": "stream",
     "text": [
      "{'1': '1', '2': '2', '3': '3', 4: 4, 5: 5, 6: 6, 'next key': '7'}\n",
      "{1: 1, 2: 2, 3: 3, 4: 4, 5: 5, 6: 6, 7: 7}\n"
     ]
    }
   ],
   "source": [
    "# (a)\n",
    "d = {'1':1, '2':2, '3':3, 4:4, 5:5, 6:6, 'next key':7}\n",
    "for key, value in d.items():\n",
    "    if(type(key)==str):\n",
    "        temp = value\n",
    "        d[key]=str(temp)\n",
    "print(d)\n",
    "\n",
    "# (b)\n",
    "d = {'1':1, '2':2, '3':3, 4:4, 5:5, 6:6, 'next key':7}\n",
    "ans = {}\n",
    "for key, value in d.items():\n",
    "    temp = int(value)\n",
    "    ans[temp] = temp\n",
    "    \n",
    "        \n",
    "print(ans)"
   ]
  },
  {
   "cell_type": "markdown",
   "metadata": {},
   "source": [
    "**Exercise 3:** write a Python program that *uses a loop* to map the following two lists into a dictionary.\n",
    "\n",
    "keys = ['red', 'green', 'blue']\n",
    "values = ['#FF0000','#008000', '#0000FF']\n",
    "\n",
    "**Expected output:** {'red': '#FF0000', 'green': '#008000', 'blue': '#0000FF'}\n",
    "\n",
    "*Hint:* look at the dictionary method [update](https://www.w3schools.com/python/ref_dictionary_update.asp)."
   ]
  },
  {
   "cell_type": "code",
   "execution_count": 28,
   "metadata": {},
   "outputs": [
    {
     "name": "stdout",
     "output_type": "stream",
     "text": [
      "{'red': '#FF0000', 'green': '#008000', 'blue': '#0000FF'}\n"
     ]
    }
   ],
   "source": [
    "keys = ['red', 'green', 'blue'] \n",
    "values = ['#FF0000','#008000', '#0000FF']\n",
    "ans = {}\n",
    "for i, j in zip(keys, values):\n",
    "    ans[i] =j\n",
    "print(ans)"
   ]
  }
 ],
 "metadata": {
  "kernelspec": {
   "display_name": "conda_amazonei_mxnet_p36",
   "language": "python",
   "name": "conda_amazonei_mxnet_p36"
  },
  "language_info": {
   "codemirror_mode": {
    "name": "ipython",
    "version": 3
   },
   "file_extension": ".py",
   "mimetype": "text/x-python",
   "name": "python",
   "nbconvert_exporter": "python",
   "pygments_lexer": "ipython3",
   "version": "3.6.13"
  },
  "vscode": {
   "interpreter": {
    "hash": "9fbb33e86ca55080a202fed700efde3fb4ffe3f46131e5b52201b9ba06ce5f72"
   }
  }
 },
 "nbformat": 4,
 "nbformat_minor": 4
}
